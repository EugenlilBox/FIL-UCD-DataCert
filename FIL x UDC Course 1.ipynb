{
 "cells": [
  {
   "cell_type": "code",
   "execution_count": 15,
   "id": "33588dfe",
   "metadata": {},
   "outputs": [
    {
     "name": "stdout",
     "output_type": "stream",
     "text": [
      "Input first number 4\n",
      "Input second number 3\n",
      "4 3\n"
     ]
    }
   ],
   "source": [
    "a =int(input(\"Input first number \"))\n",
    "b =int(input(\"Input second number \"))\n",
    "print(a,b)"
   ]
  },
  {
   "cell_type": "code",
   "execution_count": 17,
   "id": "2d5e8c6c",
   "metadata": {},
   "outputs": [
    {
     "name": "stdout",
     "output_type": "stream",
     "text": [
      "7 1 12 1.3333333333333333 16 1\n"
     ]
    }
   ],
   "source": [
    "add = a+b\n",
    "sub = a-b\n",
    "times = a*b\n",
    "div = a/b\n",
    "sqr = a**2\n",
    "div2 = a//3\n",
    "print(add, sub, times,  div,  sqr, div2)"
   ]
  },
  {
   "cell_type": "code",
   "execution_count": 7,
   "id": "bc463539",
   "metadata": {},
   "outputs": [
    {
     "ename": "NameError",
     "evalue": "name 'add' is not defined",
     "output_type": "error",
     "traceback": [
      "\u001b[0;31m---------------------------------------------------------------------------\u001b[0m",
      "\u001b[0;31mNameError\u001b[0m                                 Traceback (most recent call last)",
      "Input \u001b[0;32mIn [7]\u001b[0m, in \u001b[0;36m<cell line: 1>\u001b[0;34m()\u001b[0m\n\u001b[0;32m----> 1\u001b[0m \u001b[38;5;28mprint\u001b[39m(\u001b[38;5;124m\"\u001b[39m\u001b[38;5;124m+ is \u001b[39m\u001b[38;5;124m\"\u001b[39m \u001b[38;5;241m+\u001b[39m \u001b[43madd\u001b[49m, \u001b[38;5;124m\"\u001b[39m\u001b[38;5;124m- is \u001b[39m\u001b[38;5;124m\"\u001b[39m \u001b[38;5;241m+\u001b[39m sub, \u001b[38;5;124m\"\u001b[39m\u001b[38;5;124m* is \u001b[39m\u001b[38;5;124m\"\u001b[39m \u001b[38;5;241m+\u001b[39m times, \u001b[38;5;124m\"\u001b[39m\u001b[38;5;124m/ is \u001b[39m\u001b[38;5;124m\"\u001b[39m\u001b[38;5;241m+\u001b[39m div, \u001b[38;5;124m\"\u001b[39m\u001b[38;5;124m** is \u001b[39m\u001b[38;5;124m\"\u001b[39m \u001b[38;5;241m+\u001b[39m sqr, \u001b[38;5;124m\"\u001b[39m\u001b[38;5;124m// is\u001b[39m\u001b[38;5;124m\"\u001b[39m \u001b[38;5;241m+\u001b[39m div2)\n",
      "\u001b[0;31mNameError\u001b[0m: name 'add' is not defined"
     ]
    }
   ],
   "source": [
    "\n"
   ]
  },
  {
   "cell_type": "code",
   "execution_count": 1,
   "id": "e8b971d5",
   "metadata": {},
   "outputs": [],
   "source": [
    "import pandas as pd\n"
   ]
  },
  {
   "cell_type": "code",
   "execution_count": null,
   "id": "cb7aeb40",
   "metadata": {},
   "outputs": [],
   "source": [
    "data = pd.read"
   ]
  }
 ],
 "metadata": {
  "kernelspec": {
   "display_name": "Python 3 (ipykernel)",
   "language": "python",
   "name": "python3"
  },
  "language_info": {
   "codemirror_mode": {
    "name": "ipython",
    "version": 3
   },
   "file_extension": ".py",
   "mimetype": "text/x-python",
   "name": "python",
   "nbconvert_exporter": "python",
   "pygments_lexer": "ipython3",
   "version": "3.9.12"
  }
 },
 "nbformat": 4,
 "nbformat_minor": 5
}
